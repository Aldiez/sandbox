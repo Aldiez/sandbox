{
 "cells": [
  {
   "cell_type": "code",
   "execution_count": 2,
   "metadata": {},
   "outputs": [],
   "source": [
    "import itertools"
   ]
  },
  {
   "cell_type": "code",
   "execution_count": 3,
   "metadata": {},
   "outputs": [],
   "source": [
    "list1 = [\"Tokyo\",\"Frechen\",\"Düsseldorf\",\"Köln\",\"Berlin\"]\n",
    "list2 = [\"Berlin\",\"Hamburg\",\"Bremen\"]\n",
    "list3 = [\"Rom\",\"Berlin\",\"Tokyo\",\"Moskau\"]\n",
    "\n",
    "list_of_lists = {\"list1\":list1, \"list2\":list2, \"list3\":list3}"
   ]
  },
  {
   "cell_type": "code",
   "execution_count": 16,
   "metadata": {},
   "outputs": [
    {
     "name": "stdout",
     "output_type": "stream",
     "text": [
      "In den beiden Listen 'list1' und 'list2' sind folgende Begriffe doppelt: \n",
      " ['Berlin'] \n",
      "\n",
      "In den beiden Listen 'list1' und 'list3' sind folgende Begriffe doppelt: \n",
      " ['Berlin', 'Tokyo'] \n",
      "\n",
      "In den beiden Listen 'list2' und 'list3' sind folgende Begriffe doppelt: \n",
      " ['Berlin'] \n",
      "\n"
     ]
    }
   ],
   "source": [
    "for element1, element2 in itertools.combinations(list_of_lists, 2):\n",
    "    doppelung = list(set(list_of_lists[element1]).intersection(list_of_lists[element2]))\n",
    "    print(\"In den beiden Listen '%s' und '%s' sind folgende Begriffe doppelt: \\n %s \\n\" % (element1, element2, doppelung))"
   ]
  },
  {
   "cell_type": "code",
   "execution_count": null,
   "metadata": {},
   "outputs": [],
   "source": []
  }
 ],
 "metadata": {
  "kernelspec": {
   "display_name": "Python 3",
   "language": "python",
   "name": "python3"
  },
  "language_info": {
   "codemirror_mode": {
    "name": "ipython",
    "version": 3
   },
   "file_extension": ".py",
   "mimetype": "text/x-python",
   "name": "python",
   "nbconvert_exporter": "python",
   "pygments_lexer": "ipython3",
   "version": "3.6.8"
  }
 },
 "nbformat": 4,
 "nbformat_minor": 4
}
