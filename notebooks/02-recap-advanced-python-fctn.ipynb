{
 "cells": [
  {
   "cell_type": "markdown",
   "metadata": {},
   "source": [
    "### 5 advanced python features taken from a medium article\n",
    "\n",
    "Source [18. Aug. 2019]: https://towardsdatascience.com/5-advanced-features-of-python-and-how-to-use-them-73bffa373c84"
   ]
  },
  {
   "cell_type": "markdown",
   "metadata": {},
   "source": [
    "##### 1. Lambda function\n",
    "anonymous function to perform simple operation or expression without fully defining the function"
   ]
  },
  {
   "cell_type": "code",
   "execution_count": 1,
   "metadata": {},
   "outputs": [
    {
     "name": "stdout",
     "output_type": "stream",
     "text": [
      "30\n"
     ]
    }
   ],
   "source": [
    "x = lambda a, b : a * b\n",
    "print(x(5, 6)) # prints '30'"
   ]
  },
  {
   "cell_type": "code",
   "execution_count": 2,
   "metadata": {},
   "outputs": [
    {
     "name": "stdout",
     "output_type": "stream",
     "text": [
      "12\n"
     ]
    }
   ],
   "source": [
    "x = lambda a : a*3 + 3\n",
    "print(x(3)) # prints '12'"
   ]
  },
  {
   "cell_type": "markdown",
   "metadata": {},
   "source": [
    "##### 2. Map function\n",
    "\n",
    "Map() is a built-in Python function used to apply a function to a sequence of elements like a list or dictionary. It’s a very clean and most importantly readable way to perform such an operation."
   ]
  },
  {
   "cell_type": "code",
   "execution_count": 3,
   "metadata": {},
   "outputs": [],
   "source": [
    "def square_it_func(a):\n",
    "    return a * a"
   ]
  },
  {
   "cell_type": "code",
   "execution_count": 8,
   "metadata": {},
   "outputs": [
    {
     "name": "stdout",
     "output_type": "stream",
     "text": [
      "<map object at 0x7fdfc0308198>\n"
     ]
    }
   ],
   "source": [
    "x = map(square_it_func, [1, 4, 7])\n",
    "print(x) # prints '[1, 16, 49]'"
   ]
  },
  {
   "cell_type": "code",
   "execution_count": 9,
   "metadata": {},
   "outputs": [
    {
     "name": "stdout",
     "output_type": "stream",
     "text": [
      "1\n",
      "16\n",
      "49\n"
     ]
    }
   ],
   "source": [
    "for index in x:\n",
    "    print(index)"
   ]
  },
  {
   "cell_type": "code",
   "execution_count": 5,
   "metadata": {},
   "outputs": [],
   "source": [
    "def multiplier_func(a, b):\n",
    "        return a * b"
   ]
  },
  {
   "cell_type": "code",
   "execution_count": 31,
   "metadata": {},
   "outputs": [
    {
     "name": "stdout",
     "output_type": "stream",
     "text": [
      "<map object at 0x7fdfc02c5e10>\n"
     ]
    }
   ],
   "source": [
    "y = map(multiplier_func, [1, 4, 7], [2, 5, 8])\n",
    "print(y) # prints '[2, 20, 56]'"
   ]
  },
  {
   "cell_type": "markdown",
   "metadata": {},
   "source": [
    "The map object will be zeroed out after accessing it. Thus, only one of the two statements below will print out the object. The second call will be empty."
   ]
  },
  {
   "cell_type": "code",
   "execution_count": 29,
   "metadata": {},
   "outputs": [],
   "source": [
    "for index in y:\n",
    "    print(index)"
   ]
  },
  {
   "cell_type": "code",
   "execution_count": 33,
   "metadata": {},
   "outputs": [
    {
     "name": "stdout",
     "output_type": "stream",
     "text": [
      "[]\n"
     ]
    }
   ],
   "source": [
    "print(list(y))"
   ]
  },
  {
   "cell_type": "markdown",
   "metadata": {},
   "source": [
    "##### 3. Filter function\n",
    "\n",
    "The Filter built-in function applies a function to a sequence (list, tuple, dictionary) - similar to the map function. filter() will only return the elements which the applied function returned as True."
   ]
  },
  {
   "cell_type": "code",
   "execution_count": 34,
   "metadata": {},
   "outputs": [],
   "source": [
    "# Our numbers\n",
    "numbers = [1, 2, 3, 4, 5, 6, 7, 8, 9, 10, 11, 12, 13, 14, 15]\n",
    "\n",
    "# Function that filters out all numbers which are odd\n",
    "def filter_odd_numbers(num):\n",
    "\n",
    "    if num % 2 == 0:\n",
    "        return True\n",
    "    else:\n",
    "        return False"
   ]
  },
  {
   "cell_type": "code",
   "execution_count": 35,
   "metadata": {},
   "outputs": [
    {
     "name": "stdout",
     "output_type": "stream",
     "text": [
      "<filter object at 0x7fdfc02c5a90>\n"
     ]
    }
   ],
   "source": [
    "filtered_numbers = filter(filter_odd_numbers, numbers)\n",
    "\n",
    "print(filtered_numbers)\n",
    "# filtered_numbers = [2, 4, 6, 8, 10, 12, 14]    "
   ]
  },
  {
   "cell_type": "code",
   "execution_count": 36,
   "metadata": {},
   "outputs": [
    {
     "name": "stdout",
     "output_type": "stream",
     "text": [
      "[2, 4, 6, 8, 10, 12, 14]\n"
     ]
    }
   ],
   "source": [
    "print(list(filtered_numbers))"
   ]
  },
  {
   "cell_type": "markdown",
   "metadata": {},
   "source": [
    "Filter only returned those values which were returned with boolean True."
   ]
  },
  {
   "cell_type": "markdown",
   "metadata": {},
   "source": [
    "##### itertools module\n",
    "\n",
    "The Python Itertools module is a collection of tools for handling iterators. An iterator is a data type that can be used in a for loop including lists, tuples, and dictionaries."
   ]
  },
  {
   "cell_type": "code",
   "execution_count": 37,
   "metadata": {},
   "outputs": [],
   "source": [
    "from itertools import *"
   ]
  },
  {
   "cell_type": "code",
   "execution_count": 40,
   "metadata": {},
   "outputs": [
    {
     "name": "stdout",
     "output_type": "stream",
     "text": [
      "(1, 'a')\n",
      "(2, 'b')\n",
      "(3, 'c')\n"
     ]
    }
   ],
   "source": [
    "# Easy joining of two lists into a list of tuples\n",
    "\n",
    "for i in zip([1, 2, 3], ['a', 'b', 'c']):\n",
    "    print(i)\n",
    "# ('a', 1)\n",
    "# ('b', 2)\n",
    "# ('c', 3)"
   ]
  },
  {
   "cell_type": "code",
   "execution_count": 41,
   "metadata": {},
   "outputs": [
    {
     "name": "stdout",
     "output_type": "stream",
     "text": [
      "(1, 'Bob')\n",
      "(2, 'Emily')\n",
      "(3, 'Joe')\n"
     ]
    }
   ],
   "source": [
    "# The count() function returns an interator that \n",
    "# produces consecutive integers, forever. This \n",
    "# one is great for adding indices next to your list \n",
    "# elements for readability and convenience\n",
    "\n",
    "for i in zip(count(1), ['Bob', 'Emily', 'Joe']): # -> awesome count function!!\n",
    "    print(i)\n",
    "# (1, 'Bob')\n",
    "# (2, 'Emily')\n",
    "# (3, 'Joe')    "
   ]
  },
  {
   "cell_type": "code",
   "execution_count": 59,
   "metadata": {},
   "outputs": [
    {
     "name": "stdout",
     "output_type": "stream",
     "text": [
      "(0, 'Bob')\n",
      "(1, 'Emily')\n",
      "(2, 'Joe')\n"
     ]
    }
   ],
   "source": [
    "# alternative for code above:\n",
    "\n",
    "for count in enumerate(['Bob', 'Emily', 'Joe']):\n",
    "    print(count)"
   ]
  },
  {
   "cell_type": "code",
   "execution_count": 58,
   "metadata": {},
   "outputs": [
    {
     "name": "stdout",
     "output_type": "stream",
     "text": [
      "Checking:  2\n",
      "Checking:  4\n",
      "Checking:  6\n",
      "Result:  6\n",
      "Result:  8\n",
      "Result:  10\n",
      "Result:  12\n"
     ]
    }
   ],
   "source": [
    "#Taken from Python2?\n",
    "\n",
    "# The dropwhile() function returns an iterator that returns \n",
    "# all the elements of the input which come after a certain \n",
    "# condition becomes false for the first time. \n",
    "def check_for_drop(x):\n",
    "    print ('Checking: ', x)\n",
    "    return (x < 5)\n",
    "\n",
    "for i in dropwhile(check_for_drop, [2, 4, 6, 8, 10, 12]):\n",
    "    print('Result: ', str(i))\n",
    "\n",
    "# Checking: 2\n",
    "# Checking: 4\n",
    "# Result: 6\n",
    "# Result: 8\n",
    "# Result: 10\n",
    "# Result: 12"
   ]
  },
  {
   "cell_type": "code",
   "execution_count": 57,
   "metadata": {},
   "outputs": [
    {
     "name": "stdout",
     "output_type": "stream",
     "text": [
      "1 [1, 1, 1]\n",
      "2 [2, 2, 2]\n",
      "3 [3, 3]\n",
      "4 [4]\n",
      "5 [5]\n",
      "[1, 1, 1, 2, 2, 2, 3, 3, 4, 5]\n"
     ]
    }
   ],
   "source": [
    "# The groupby() function is great for retrieving bunches\n",
    "# of iterator elements which are the same or have similar \n",
    "# properties\n",
    "\n",
    "a = sorted([1, 2, 1, 3, 2, 1, 2, 3, 4, 5])\n",
    "for key, value in groupby(a):\n",
    "    print(key, list(value))\n",
    "    \n",
    "print(a)\n",
    "# (1, [1, 1, 1])\n",
    "# (2, [2, 2, 2]) \n",
    "# (3, [3, 3]) \n",
    "# (4, [4]) \n",
    "# (5, [5]) "
   ]
  },
  {
   "cell_type": "markdown",
   "metadata": {},
   "source": [
    "##### 5. Generators\n",
    "\n",
    "Generator functions allow you to declare a function that behaves like an iterator. This greatly simplifies your code and is much more memory efficient than a simple for loop."
   ]
  },
  {
   "cell_type": "markdown",
   "metadata": {},
   "source": [
    "... no code here, since article was written in phantom pyhon 2.x"
   ]
  },
  {
   "cell_type": "code",
   "execution_count": null,
   "metadata": {},
   "outputs": [],
   "source": []
  }
 ],
 "metadata": {
  "kernelspec": {
   "display_name": "Python 3",
   "language": "python",
   "name": "python3"
  },
  "language_info": {
   "codemirror_mode": {
    "name": "ipython",
    "version": 3
   },
   "file_extension": ".py",
   "mimetype": "text/x-python",
   "name": "python",
   "nbconvert_exporter": "python",
   "pygments_lexer": "ipython3",
   "version": "3.6.8"
  }
 },
 "nbformat": 4,
 "nbformat_minor": 4
}
