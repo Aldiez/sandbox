{
 "cells": [
  {
   "cell_type": "code",
   "execution_count": 4,
   "metadata": {
    "collapsed": true
   },
   "outputs": [],
   "source": [
    "import re\n",
    "\n",
    "def cleanseNrinse(raw_data):\n",
    "# these lines of codes are necessary only for the train_data_ot set\n",
    "# unnecessary parts to be cut out: copyright and short text\n",
    "\n",
    "    for i in new_data:\n",
    "        if len(i) <= 50:\n",
    "            continue\n",
    "        \n",
    "        # cut off all the copyright strings\n",
    "        head  = re.split('\\('+r'c'+'\\)',i,flags=re.IGNORECASE)[0]\n",
    "        #head, sep, tail = i.partition('('+r'c|C'+')') # this part doesn't work proper. left here for later refinement\n",
    "        yield head\n",
    "        "
   ]
  },
  {
   "cell_type": "code",
   "execution_count": 5,
   "metadata": {
    "collapsed": true
   },
   "outputs": [],
   "source": [
    "new_data = open(\"train_data_ot\",\"r\") #train data contains abstracts from two main topics: biophysics and Condensed Matter Physics\n",
    "# For the work with the newsgroups data, change back \"train_data_ot\" to \"documents\"\n",
    "\n",
    "\n",
    "wos_data = cleanseNrinse(new_data)\n"
   ]
  },
  {
   "cell_type": "code",
   "execution_count": 6,
   "metadata": {
    "collapsed": true,
    "scrolled": true
   },
   "outputs": [],
   "source": [
    "from nltk.corpus import stopwords\n",
    "from gensim.utils import simple_preprocess\n",
    "\n",
    "stop_words = stopwords.words('english')\n",
    "\n",
    "def remove_stopwords(texts):\n",
    "    return [[word for word in simple_preprocess(str(doc)) if word not in stop_words] for doc in texts]\n"
   ]
  },
  {
   "cell_type": "code",
   "execution_count": 7,
   "metadata": {
    "collapsed": true
   },
   "outputs": [],
   "source": [
    "wosdata = remove_stopwords(wos_data)\n",
    "#print(wosdata)"
   ]
  },
  {
   "cell_type": "code",
   "execution_count": 12,
   "metadata": {
    "collapsed": true
   },
   "outputs": [],
   "source": [
    "wos_dictionary = Dictionary(wosdata)\n",
    "wos_corpus = [wos_dictionary.doc2bow(text) for text in wosdata]"
   ]
  },
  {
   "cell_type": "code",
   "execution_count": 18,
   "metadata": {
    "collapsed": true,
    "scrolled": true
   },
   "outputs": [],
   "source": [
    "from gensim.models.ldamodel import LdaModel\n",
    "\n",
    "lda = LdaModel(wos_corpus, num_topics=2)"
   ]
  },
  {
   "cell_type": "code",
   "execution_count": 22,
   "metadata": {},
   "outputs": [
    {
     "name": "stdout",
     "output_type": "stream",
     "text": [
      "LdaModel(num_terms=46939, num_topics=2, decay=0.5, chunksize=2000)\n"
     ]
    }
   ],
   "source": [
    "print(lda)"
   ]
  },
  {
   "cell_type": "code",
   "execution_count": 29,
   "metadata": {},
   "outputs": [
    {
     "name": "stdout",
     "output_type": "stream",
     "text": [
      "[(0,\n",
      "  '0.009*\"107\" + 0.007*\"106\" + 0.005*\"556\" + 0.004*\"103\" + 0.004*\"194\" + '\n",
      "  '0.004*\"39\" + 0.003*\"62\" + 0.003*\"200\" + 0.003*\"249\" + 0.003*\"929\"'),\n",
      " (1,\n",
      "  '0.005*\"259\" + 0.005*\"1428\" + 0.005*\"206\" + 0.005*\"514\" + 0.004*\"2810\" + '\n",
      "  '0.004*\"131\" + 0.004*\"2455\" + 0.004*\"62\" + 0.004*\"77\" + 0.003*\"1000\"')]\n",
      "<gensim.interfaces.TransformedCorpus object at 0x000000001923F630>\n"
     ]
    }
   ],
   "source": [
    "from pprint import pprint\n",
    "\n",
    "pprint(lda.print_topics())\n",
    "doc_lda = lda[wos_corpus]\n"
   ]
  },
  {
   "cell_type": "code",
   "execution_count": null,
   "metadata": {
    "collapsed": true
   },
   "outputs": [],
   "source": [
    "test_data = open(\"test_data_mp\",\"r\")\n",
    "\n",
    "test_data = cleanseNrinse(test_data)\n",
    "testdata = remove_stopwords(test_data)"
   ]
  },
  {
   "cell_type": "markdown",
   "metadata": {},
   "source": [
    "sources:\n",
    "\n",
    "https://towardsdatascience.com/unsupervised-nlp-topic-models-as-a-supervised-learning-input-cf8ee9e5cf28\n",
    "https://radimrehurek.com/topic_modeling_tutorial/2%20-%20Topic%20Modeling.html\n",
    "https://www.machinelearningplus.com/nlp/topic-modeling-gensim-python/"
   ]
  }
 ],
 "metadata": {
  "kernelspec": {
   "display_name": "Python 3",
   "language": "python",
   "name": "python3"
  },
  "language_info": {
   "codemirror_mode": {
    "name": "ipython",
    "version": 3
   },
   "file_extension": ".py",
   "mimetype": "text/x-python",
   "name": "python",
   "nbconvert_exporter": "python",
   "pygments_lexer": "ipython3",
   "version": "3.6.8"
  }
 },
 "nbformat": 4,
 "nbformat_minor": 2
}
